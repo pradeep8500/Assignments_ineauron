{
 "cells": [
  {
   "cell_type": "markdown",
   "metadata": {},
   "source": [
    "###### 1.1 Write a Python Program to implement your own myreduce() function which works exactly like Python's built-in function reduce()"
   ]
  },
  {
   "cell_type": "code",
   "execution_count": 95,
   "metadata": {},
   "outputs": [
    {
     "name": "stdout",
     "output_type": "stream",
     "text": [
      "The sum of [1, 2, 3, 4, 5] is 15\n"
     ]
    }
   ],
   "source": [
    "def function1(first,second):\n",
    "    return(first+second)  \n",
    "\n",
    "def my_reduce(function1,list1):\n",
    "    first=list1[0]\n",
    "    for second in list1[1:]:\n",
    "        first=function1(first,second)\n",
    "    return(first)\n",
    "\n",
    "list1=[1,2,3,4,5]    \n",
    "\n",
    "final_value=my_reduce(function1,list1)\n",
    "print('The sum of {} is {}'.format(list1,final_value))"
   ]
  },
  {
   "cell_type": "markdown",
   "metadata": {},
   "source": [
    "###### 1.2 Write a Python program to implement your own myfilter() function which works exactly like Python's built-in function filter()"
   ]
  },
  {
   "cell_type": "code",
   "execution_count": 102,
   "metadata": {},
   "outputs": [
    {
     "name": "stdout",
     "output_type": "stream",
     "text": [
      "The even numbers of [1, 2, 3, 4, 5, 6, 7, 8, 9] are [2, 4, 6, 8]\n"
     ]
    }
   ],
   "source": [
    "def Even_number(number):\n",
    "    if number%2==0:\n",
    "        return True\n",
    "def myfilter(Even_number,numbers):\n",
    "    even_numbers=[]\n",
    "    for i in numbers:\n",
    "        if Even_number(i):\n",
    "            even_numbers.append(i)\n",
    "    return(even_numbers)        \n",
    "        \n",
    "    \n",
    "numbers=[1,2,3,4,5,6,7,8,9]\n",
    "final_filter=myfilter(Even_number,numbers)\n",
    "print('The even numbers of {} are {}'.format(numbers,final_filter))"
   ]
  },
  {
   "cell_type": "markdown",
   "metadata": {},
   "source": [
    "###### 2. Implement List comprehensions to produce the following lists.Write List comprehensions to produce the following Lists\n",
    "['x', 'xx', 'xxx', 'xxxx', 'y', 'yy', 'yyy', 'yyyy', 'z', 'zz', 'zzz', 'zzzz']\n",
    "['x', 'y', 'z', 'xx', 'yy', 'zz', 'xxx', 'yyy', 'zzz', 'xxxx', 'yyyy', 'zzzz']\n",
    "[[2], [3], [4], [3], [4], [5], [4], [5], [6]] [[2, 3, 4, 5], [3, 4, 5, 6],\n",
    "[4, 5, 6, 7], [5, 6, 7, 8]]\n",
    "[(1, 1), (2, 1), (3, 1), (1, 2), (2, 2), (3, 2), (1, 3), (2, 3), (3, 3)]"
   ]
  },
  {
   "cell_type": "code",
   "execution_count": 15,
   "metadata": {},
   "outputs": [
    {
     "name": "stdout",
     "output_type": "stream",
     "text": [
      "['x', 'xx', 'xxx', 'y', 'yy', 'yyy', 'z', 'zz', 'zzz'] ['x', 'y', 'z', 'xx', 'yy', 'zz', 'xxx', 'yyy', 'zzz'] [[2], [3], [4], [3], [4], [5], [4], [5], [6]] [[2, 3, 4, 5], [3, 4, 5, 6], [4, 5, 6, 7], [5, 6, 7, 8]] [(1, 1), (2, 1), (3, 1), (1, 2), (2, 2), (3, 2), (1, 3), (2, 3), (3, 3)]\n"
     ]
    }
   ],
   "source": [
    "final1=[j*i for j in ['x','y','z'] for i in [1,2,3] ]\n",
    "final2=[i*j for j in [1,2,3] for i in ['x','y','z']]\n",
    "final3=[[i+j] for i in [2,3,4]  for j in [0,1,2]]\n",
    "final4=[[i+j for i in [2,3,4,5]] for j in [0,1,2,3] ]\n",
    "final5=[(j,i)for i in [1,2,3] for j in [1,2,3]]\n",
    "print(final1,final2,final3,final4,final5)"
   ]
  }
 ],
 "metadata": {
  "kernelspec": {
   "display_name": "Python 3",
   "language": "python",
   "name": "python3"
  },
  "language_info": {
   "codemirror_mode": {
    "name": "ipython",
    "version": 3
   },
   "file_extension": ".py",
   "mimetype": "text/x-python",
   "name": "python",
   "nbconvert_exporter": "python",
   "pygments_lexer": "ipython3",
   "version": "3.7.5"
  }
 },
 "nbformat": 4,
 "nbformat_minor": 4
}
