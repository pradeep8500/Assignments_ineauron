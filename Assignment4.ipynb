{
 "cells": [
  {
   "cell_type": "markdown",
   "metadata": {},
   "source": [
    "1.1 Write a Python Program(with class concepts) to find the area of the triangle using the belowformula.\n",
    "area = (s*(s-a)*(s-b)*(s-c)) ** 0.5\n",
    "Function to take the length of the sides of triangle from user should be defined in the parent\n",
    "class and function to calculate the area should be defined in subclass."
   ]
  },
  {
   "cell_type": "code",
   "execution_count": 38,
   "metadata": {},
   "outputs": [
    {
     "name": "stdout",
     "output_type": "stream",
     "text": [
      "3 4 3 5.0\n"
     ]
    },
    {
     "data": {
      "text/plain": [
       "10.0"
      ]
     },
     "execution_count": 38,
     "metadata": {},
     "output_type": "execute_result"
    }
   ],
   "source": [
    "class Triangle():\n",
    "    def sides(self,a,b,c):\n",
    "        self.a=a\n",
    "        self.b=b\n",
    "        self.c=c\n",
    "        self.s=(a+b+c)/2\n",
    "        \n",
    "class Sub(Triangle):\n",
    "        \n",
    "        def area (self,a,b,c):\n",
    "            Triangle.sides(self,a,b,c)\n",
    "            print(self.a,self.b,self.c,self.s)\n",
    "            area1=0.5*(self.s)*(self.s-self.a)*(self.s-self.b)*(self.s-self.c)\n",
    "            return area1\n",
    "sub1=Sub()\n",
    "sub1.area(3,4,3)"
   ]
  },
  {
   "cell_type": "markdown",
   "metadata": {},
   "source": [
    "1.2 Write a function filter_long_words() that takes a list of words and an integer n and returns\n",
    "the list of words that are longer than n."
   ]
  },
  {
   "cell_type": "code",
   "execution_count": 50,
   "metadata": {},
   "outputs": [
    {
     "name": "stdout",
     "output_type": "stream",
     "text": [
      "The list ['pradeep', 'harish'] of words contain longer than length 5\n"
     ]
    }
   ],
   "source": [
    "def filter_long_words(word_list,n):\n",
    "    return(list(filter(lambda x:len(x)>n,word_list)))\n",
    "word_list=['pradeep','harish','me','apple']\n",
    "number=5\n",
    "result=filter_long_words(word_list,number)\n",
    "print(\"The list {} of words contain longer than length {}\".format(result,number))"
   ]
  },
  {
   "cell_type": "markdown",
   "metadata": {},
   "source": [
    "2.1 Write a Python program using function concept that maps list of words into a list of integers\n",
    "representing the lengths of the corresponding words.\n",
    "Hint: If a list [ ab,cde,erty] is passed on to the python function output should come as [2,3,4]\n",
    "Here 2,3 and 4 are the lengths of the words in the list."
   ]
  },
  {
   "cell_type": "code",
   "execution_count": 2,
   "metadata": {},
   "outputs": [
    {
     "name": "stdout",
     "output_type": "stream",
     "text": [
      "The input list is ['ab', 'cde', 'erty'] and the output list is [2, 3, 4]\n"
     ]
    }
   ],
   "source": [
    "def find_length(list1):\n",
    "    len_list=[]\n",
    "    for i in list1:\n",
    "        len_list.append(len(i))\n",
    "    return(len_list)    \n",
    "list1=['ab','cde','erty']        \n",
    "output=find_length(list1)\n",
    "print(\"The input list is {} and the output list is {}\".format(list1,output))"
   ]
  },
  {
   "cell_type": "markdown",
   "metadata": {},
   "source": [
    "2.2 Write a Python function which takes a character (i.e. a string of length 1) and returns True if\n",
    "it is a vowel, False otherwise."
   ]
  },
  {
   "cell_type": "code",
   "execution_count": 14,
   "metadata": {},
   "outputs": [
    {
     "name": "stdout",
     "output_type": "stream",
     "text": [
      "Is character A is Vowel? Ans: True\n"
     ]
    }
   ],
   "source": [
    "def Vowel_or_not(Vowel_list,character):\n",
    "    if character.lower() in Vowel_list:\n",
    "        return True\n",
    "    else:\n",
    "        return False\n",
    "Vowel_list = ['a','e','i','o','u'] \n",
    "character = 'A'\n",
    "final_result=Vowel_or_not(Vowel_list,character)        \n",
    "print(\"Is character {} is Vowel? Ans: {}\".format(character,final_result))    "
   ]
  }
 ],
 "metadata": {
  "kernelspec": {
   "display_name": "Python 3",
   "language": "python",
   "name": "python3"
  },
  "language_info": {
   "codemirror_mode": {
    "name": "ipython",
    "version": 3
   },
   "file_extension": ".py",
   "mimetype": "text/x-python",
   "name": "python",
   "nbconvert_exporter": "python",
   "pygments_lexer": "ipython3",
   "version": "3.7.5"
  }
 },
 "nbformat": 4,
 "nbformat_minor": 4
}
